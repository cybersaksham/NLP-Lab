{
 "cells": [
  {
   "cell_type": "code",
   "execution_count": 3,
   "metadata": {},
   "outputs": [],
   "source": [
    "from nltk.parse import ShiftReduceParser\n",
    "from nltk import CFG"
   ]
  },
  {
   "cell_type": "code",
   "execution_count": 12,
   "metadata": {},
   "outputs": [
    {
     "name": "stdout",
     "output_type": "stream",
     "text": [
      "Warning: ADJ -> 'old' will never be used\n",
      "Warning: N -> 'man' will never be used\n"
     ]
    }
   ],
   "source": [
    "sentence = \"The old man cried\"\n",
    "grammar = \"\"\"\n",
    "S -> NP VP\n",
    "NP -> ART N | ART ADJ N\n",
    "VP -> V | V NP\n",
    "ART -> \"The\"\n",
    "ADJ -> \"old\"\n",
    "N -> \"old\" | \"man\"\n",
    "V -> \"man\" | \"cried\"\n",
    "\"\"\"\n",
    "parser = ShiftReduceParser(CFG.fromstring(grammar))"
   ]
  },
  {
   "cell_type": "code",
   "execution_count": 14,
   "metadata": {},
   "outputs": [
    {
     "name": "stdout",
     "output_type": "stream",
     "text": [
      "         S           \n",
      "      ___|________    \n",
      "     NP           VP \n",
      "  ___|_______     |   \n",
      "ART ADJ      N    V  \n",
      " |   |       |    |   \n",
      "The old     man cried\n",
      "\n"
     ]
    }
   ],
   "source": [
    "for token in parser.parse(sentence.split()):\n",
    "    token.pretty_print()"
   ]
  }
 ],
 "metadata": {
  "kernelspec": {
   "display_name": "venv",
   "language": "python",
   "name": "python3"
  },
  "language_info": {
   "codemirror_mode": {
    "name": "ipython",
    "version": 3
   },
   "file_extension": ".py",
   "mimetype": "text/x-python",
   "name": "python",
   "nbconvert_exporter": "python",
   "pygments_lexer": "ipython3",
   "version": "3.9.6"
  },
  "orig_nbformat": 4
 },
 "nbformat": 4,
 "nbformat_minor": 2
}
