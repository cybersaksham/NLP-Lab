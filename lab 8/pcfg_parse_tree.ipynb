{
 "cells": [
  {
   "cell_type": "code",
   "execution_count": 4,
   "metadata": {},
   "outputs": [],
   "source": [
    "import nltk\n",
    "from nltk import PCFG\n",
    "from nltk.parse import ViterbiParser"
   ]
  },
  {
   "cell_type": "code",
   "execution_count": 23,
   "metadata": {},
   "outputs": [
    {
     "name": "stdout",
     "output_type": "stream",
     "text": [
      "              S               \n",
      "      ________|_____           \n",
      "     |              VP        \n",
      "     |         _____|___       \n",
      "     NP       |         NP    \n",
      "  ___|___     |      ___|___   \n",
      "Det      N    V    Det      N \n",
      " |       |    |     |       |  \n",
      "the     dog chased the     cat\n",
      "\n",
      "0.03675\n"
     ]
    }
   ],
   "source": [
    "pcfg = PCFG.fromstring(\"\"\"\n",
    "    S -> NP VP [1.0]\n",
    "    NP -> Det N [0.5] | N [0.5]\n",
    "    VP -> V NP [0.7] | V [0.3]\n",
    "    Det -> 'the' [1.0]\n",
    "    N -> 'dog' [0.7] | 'cat' [0.3]\n",
    "    V -> 'chased' [1.0]\n",
    "\"\"\")\n",
    "sentence = \"the dog chased the cat\".split()\n",
    "\n",
    "parser = ViterbiParser(pcfg)\n",
    "for tree in parser.parse(sentence):\n",
    "    tree.pretty_print()\n",
    "    print(tree.prob())\n"
   ]
  }
 ],
 "metadata": {
  "kernelspec": {
   "display_name": "venv",
   "language": "python",
   "name": "python3"
  },
  "language_info": {
   "codemirror_mode": {
    "name": "ipython",
    "version": 3
   },
   "file_extension": ".py",
   "mimetype": "text/x-python",
   "name": "python",
   "nbconvert_exporter": "python",
   "pygments_lexer": "ipython3",
   "version": "3.9.6"
  },
  "orig_nbformat": 4
 },
 "nbformat": 4,
 "nbformat_minor": 2
}
