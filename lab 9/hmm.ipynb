{
 "cells": [
  {
   "cell_type": "code",
   "execution_count": 5,
   "metadata": {},
   "outputs": [],
   "source": [
    "import numpy as np"
   ]
  },
  {
   "cell_type": "code",
   "execution_count": 6,
   "metadata": {},
   "outputs": [],
   "source": [
    "class HiddenMarkovModel:\n",
    "    def __init__(self, num_states, num_obs):\n",
    "        self.num_states = num_states\n",
    "        self.num_obs = num_obs\n",
    "        self.transition_prob = np.ones((num_states, num_states)) / num_states\n",
    "        self.emission_prob = np.ones((num_states, num_obs)) / num_obs\n",
    "        self.initial_prob = np.ones(num_states) / num_states\n",
    "    \n",
    "    def train(self, observations, states, num_iterations=100):\n",
    "        for _ in range(num_iterations):\n",
    "            new_transition_prob = np.zeros((self.num_states, self.num_states))\n",
    "            new_emission_prob = np.zeros((self.num_states, self.num_obs))\n",
    "            new_initial_prob = np.zeros(self.num_states)\n",
    "            \n",
    "            for observation, state in zip(observations, states):\n",
    "                alpha, beta = self.forward_backward(observation)\n",
    "                new_initial_prob[state[0]] += 1\n",
    "                for t in range(len(observation)-1):\n",
    "                    new_transition_prob[state[t], state[t+1]] += alpha[t, state[t]] * beta[t+1, state[t+1]]\n",
    "                    new_emission_prob[state[t], observation[t]] += 1\n",
    "\n",
    "            self.transition_prob = new_transition_prob / new_transition_prob.sum(axis=1)[:, np.newaxis]\n",
    "            self.emission_prob = new_emission_prob / new_emission_prob.sum(axis=1)[:, np.newaxis]\n",
    "            self.initial_prob = new_initial_prob / new_initial_prob.sum()\n",
    "\n",
    "    def forward_backward(self, observation):\n",
    "        T = len(observation)\n",
    "        alpha = np.zeros((T, self.num_states))\n",
    "        beta = np.zeros((T, self.num_states))\n",
    "\n",
    "        # Forward pass\n",
    "        alpha[0] = self.initial_prob * self.emission_prob[:, observation[0]]\n",
    "        for t in range(1, T):\n",
    "            alpha[t] = np.dot(alpha[t-1], self.transition_prob) * self.emission_prob[:, observation[t]]\n",
    "\n",
    "        # Backward pass\n",
    "        beta[-1] = 1\n",
    "        for t in range(T-2, -1, -1):\n",
    "            beta[t] = np.dot(self.transition_prob, self.emission_prob[:, observation[t+1]] * beta[t+1])\n",
    "\n",
    "        return alpha, beta\n",
    "    \n",
    "    def predict(self, observation):\n",
    "        alpha, beta = self.forward_backward(observation)\n",
    "        return np.argmax(alpha * beta, axis=1)"
   ]
  },
  {
   "cell_type": "code",
   "execution_count": 7,
   "metadata": {},
   "outputs": [],
   "source": [
    "num_states = 2\n",
    "num_obs = 3\n",
    "hmm = HiddenMarkovModel(num_states, num_obs)\n",
    "\n",
    "observations = [[0, 1, 2, 1, 0], [2, 1, 0, 0, 2]]\n",
    "states = [[0, 0, 1, 1, 1], [1, 1, 0, 0, 1]]\n",
    "\n",
    "hmm.train(observations, states)"
   ]
  },
  {
   "cell_type": "code",
   "execution_count": 8,
   "metadata": {},
   "outputs": [
    {
     "data": {
      "text/plain": [
       "array([1, 1, 0, 1])"
      ]
     },
     "execution_count": 8,
     "metadata": {},
     "output_type": "execute_result"
    }
   ],
   "source": [
    "new_observation = [1, 2, 0, 1]\n",
    "predicted_states = hmm.predict(new_observation)\n",
    "predicted_states"
   ]
  }
 ],
 "metadata": {
  "kernelspec": {
   "display_name": "venv",
   "language": "python",
   "name": "python3"
  },
  "language_info": {
   "codemirror_mode": {
    "name": "ipython",
    "version": 3
   },
   "file_extension": ".py",
   "mimetype": "text/x-python",
   "name": "python",
   "nbconvert_exporter": "python",
   "pygments_lexer": "ipython3",
   "version": "3.9.6"
  },
  "orig_nbformat": 4
 },
 "nbformat": 4,
 "nbformat_minor": 2
}
