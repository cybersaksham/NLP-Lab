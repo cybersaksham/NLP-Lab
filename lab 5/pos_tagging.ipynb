{
 "cells": [
  {
   "cell_type": "code",
   "execution_count": 41,
   "metadata": {},
   "outputs": [],
   "source": [
    "import nltk\n",
    "from nltk.corpus import stopwords\n",
    "import string"
   ]
  },
  {
   "cell_type": "code",
   "execution_count": 42,
   "metadata": {},
   "outputs": [
    {
     "name": "stderr",
     "output_type": "stream",
     "text": [
      "[nltk_data] Downloading package universal_tagset to\n",
      "[nltk_data]     /Users/cybersaksham/nltk_data...\n",
      "[nltk_data]   Package universal_tagset is already up-to-date!\n",
      "[nltk_data] Downloading package averaged_perceptron_tagger to\n",
      "[nltk_data]     /Users/cybersaksham/nltk_data...\n",
      "[nltk_data]   Package averaged_perceptron_tagger is already up-to-\n",
      "[nltk_data]       date!\n",
      "[nltk_data] Downloading package maxent_treebank_pos_tagger to\n",
      "[nltk_data]     /Users/cybersaksham/nltk_data...\n",
      "[nltk_data]   Package maxent_treebank_pos_tagger is already up-to-\n",
      "[nltk_data]       date!\n"
     ]
    },
    {
     "data": {
      "text/plain": [
       "True"
      ]
     },
     "execution_count": 42,
     "metadata": {},
     "output_type": "execute_result"
    }
   ],
   "source": [
    "nltk.download(\"universal_tagset\")\n",
    "nltk.download(\"averaged_perceptron_tagger\")\n",
    "nltk.download(\"maxent_treebank_pos_tagger\")"
   ]
  },
  {
   "cell_type": "code",
   "execution_count": 43,
   "metadata": {},
   "outputs": [],
   "source": [
    "from nltk.tag.perceptron import PerceptronTagger"
   ]
  },
  {
   "cell_type": "code",
   "execution_count": 44,
   "metadata": {},
   "outputs": [],
   "source": [
    "stop_words = stopwords.words(\"english\")\n",
    "stop_words.extend(string.punctuation)"
   ]
  },
  {
   "cell_type": "code",
   "execution_count": 45,
   "metadata": {},
   "outputs": [
    {
     "data": {
      "text/plain": [
       "['learned',\n",
       " 'differences',\n",
       " 'various',\n",
       " 'parts',\n",
       " 'speech',\n",
       " 'tags',\n",
       " 'nouns',\n",
       " 'verbs',\n",
       " 'adjectives',\n",
       " 'adverbs',\n",
       " 'associating',\n",
       " 'word',\n",
       " 'sentence',\n",
       " 'proper',\n",
       " 'pos',\n",
       " 'part',\n",
       " 'speech',\n",
       " 'known',\n",
       " 'pos',\n",
       " 'tagging',\n",
       " 'pos',\n",
       " 'annotation',\n",
       " 'pos',\n",
       " 'tags',\n",
       " 'also',\n",
       " 'known',\n",
       " 'word',\n",
       " 'classes',\n",
       " 'morphological',\n",
       " 'classes',\n",
       " 'lexical',\n",
       " 'tags',\n",
       " 'back',\n",
       " 'days',\n",
       " 'pos',\n",
       " 'annotation',\n",
       " 'manually',\n",
       " 'done',\n",
       " 'human',\n",
       " 'annotators',\n",
       " 'laborious',\n",
       " 'task',\n",
       " 'today',\n",
       " 'automatic',\n",
       " 'tools',\n",
       " 'capable',\n",
       " 'tagging',\n",
       " 'word',\n",
       " 'appropriate',\n",
       " 'pos',\n",
       " 'tag',\n",
       " 'within',\n",
       " 'context']"
      ]
     },
     "execution_count": 45,
     "metadata": {},
     "output_type": "execute_result"
    }
   ],
   "source": [
    "f = open(\"input.txt\", \"r\")\n",
    "text = f.read()\n",
    "words = nltk.word_tokenize(text)\n",
    "f.close()\n",
    "\n",
    "cleaned = [word.lower() for word in words if (word not in stop_words) and len(word) > 2]\n",
    "cleaned"
   ]
  },
  {
   "cell_type": "code",
   "execution_count": 46,
   "metadata": {},
   "outputs": [
    {
     "data": {
      "text/plain": [
       "[('learned', 'VERB'),\n",
       " ('differences', 'NOUN'),\n",
       " ('various', 'ADJ'),\n",
       " ('parts', 'NOUN'),\n",
       " ('speech', 'NOUN'),\n",
       " ('tags', 'NOUN'),\n",
       " ('nouns', 'ADV'),\n",
       " ('verbs', 'VERB'),\n",
       " ('adjectives', 'NOUN'),\n",
       " ('adverbs', 'VERB'),\n",
       " ('associating', 'VERB'),\n",
       " ('word', 'NOUN'),\n",
       " ('sentence', 'NOUN'),\n",
       " ('proper', 'ADJ'),\n",
       " ('pos', 'NOUN'),\n",
       " ('part', 'NOUN'),\n",
       " ('speech', 'NOUN'),\n",
       " ('known', 'VERB'),\n",
       " ('pos', 'ADJ'),\n",
       " ('tagging', 'VERB'),\n",
       " ('pos', 'ADJ'),\n",
       " ('annotation', 'NOUN'),\n",
       " ('pos', 'NOUN'),\n",
       " ('tags', 'NOUN'),\n",
       " ('also', 'ADV'),\n",
       " ('known', 'VERB'),\n",
       " ('word', 'NOUN'),\n",
       " ('classes', 'VERB'),\n",
       " ('morphological', 'ADJ'),\n",
       " ('classes', 'NOUN'),\n",
       " ('lexical', 'ADJ'),\n",
       " ('tags', 'NOUN'),\n",
       " ('back', 'PRT'),\n",
       " ('days', 'NOUN'),\n",
       " ('pos', 'NOUN'),\n",
       " ('annotation', 'NOUN'),\n",
       " ('manually', 'ADV'),\n",
       " ('done', 'VERB'),\n",
       " ('human', 'ADJ'),\n",
       " ('annotators', 'NOUN'),\n",
       " ('laborious', 'ADJ'),\n",
       " ('task', 'NOUN'),\n",
       " ('today', 'NOUN'),\n",
       " ('automatic', 'ADJ'),\n",
       " ('tools', 'NOUN'),\n",
       " ('capable', 'ADJ'),\n",
       " ('tagging', 'VERB'),\n",
       " ('word', 'NOUN'),\n",
       " ('appropriate', 'ADJ'),\n",
       " ('pos', 'NOUN'),\n",
       " ('tag', 'NOUN'),\n",
       " ('within', 'ADP'),\n",
       " ('context', 'NOUN')]"
      ]
     },
     "execution_count": 46,
     "metadata": {},
     "output_type": "execute_result"
    }
   ],
   "source": [
    "tagged = nltk.pos_tag(cleaned, tagset=\"universal\")\n",
    "tagged"
   ]
  },
  {
   "cell_type": "code",
   "execution_count": 47,
   "metadata": {},
   "outputs": [
    {
     "data": {
      "text/plain": [
       "[('learned', 'VBN'),\n",
       " ('differences', 'NNS'),\n",
       " ('various', 'JJ'),\n",
       " ('parts', 'NNS'),\n",
       " ('speech', 'NN'),\n",
       " ('tags', 'NNS'),\n",
       " ('nouns', 'RB'),\n",
       " ('verbs', 'VBP'),\n",
       " ('adjectives', 'NNS'),\n",
       " ('adverbs', 'VBP'),\n",
       " ('associating', 'VBG'),\n",
       " ('word', 'NN'),\n",
       " ('sentence', 'NN'),\n",
       " ('proper', 'JJ'),\n",
       " ('pos', 'NN'),\n",
       " ('part', 'NN'),\n",
       " ('speech', 'NN'),\n",
       " ('known', 'VBN'),\n",
       " ('pos', 'JJ'),\n",
       " ('tagging', 'VBG'),\n",
       " ('pos', 'JJ'),\n",
       " ('annotation', 'NN'),\n",
       " ('pos', 'NN'),\n",
       " ('tags', 'NNS'),\n",
       " ('also', 'RB'),\n",
       " ('known', 'VBN'),\n",
       " ('word', 'NN'),\n",
       " ('classes', 'VBZ'),\n",
       " ('morphological', 'JJ'),\n",
       " ('classes', 'NNS'),\n",
       " ('lexical', 'JJ'),\n",
       " ('tags', 'NNS'),\n",
       " ('back', 'RP'),\n",
       " ('days', 'NNS'),\n",
       " ('pos', 'NN'),\n",
       " ('annotation', 'NN'),\n",
       " ('manually', 'RB'),\n",
       " ('done', 'VBN'),\n",
       " ('human', 'JJ'),\n",
       " ('annotators', 'NNS'),\n",
       " ('laborious', 'JJ'),\n",
       " ('task', 'NN'),\n",
       " ('today', 'NN'),\n",
       " ('automatic', 'JJ'),\n",
       " ('tools', 'NNS'),\n",
       " ('capable', 'JJ'),\n",
       " ('tagging', 'VBG'),\n",
       " ('word', 'NN'),\n",
       " ('appropriate', 'JJ'),\n",
       " ('pos', 'NN'),\n",
       " ('tag', 'NN'),\n",
       " ('within', 'IN'),\n",
       " ('context', 'NN')]"
      ]
     },
     "execution_count": 47,
     "metadata": {},
     "output_type": "execute_result"
    }
   ],
   "source": [
    "tagger = PerceptronTagger()\n",
    "tagger.tag(cleaned)"
   ]
  },
  {
   "cell_type": "code",
   "execution_count": 48,
   "metadata": {},
   "outputs": [
    {
     "data": {
      "text/plain": [
       "[('learned', 'Noun'),\n",
       " ('differences', 'Verb'),\n",
       " ('various', 'Noun'),\n",
       " ('parts', 'Verb'),\n",
       " ('speech', 'Noun'),\n",
       " ('tags', 'Verb'),\n",
       " ('nouns', 'Noun'),\n",
       " ('verbs', 'Verb'),\n",
       " ('adjectives', 'Noun'),\n",
       " ('adverbs', 'Verb'),\n",
       " ('associating', 'Noun'),\n",
       " ('word', 'Verb'),\n",
       " ('sentence', 'Noun'),\n",
       " ('proper', 'Verb'),\n",
       " ('pos', 'Noun'),\n",
       " ('part', 'Verb'),\n",
       " ('speech', 'Noun'),\n",
       " ('known', 'Verb'),\n",
       " ('pos', 'Noun'),\n",
       " ('tagging', 'Verb'),\n",
       " ('pos', 'Noun'),\n",
       " ('annotation', 'Verb'),\n",
       " ('pos', 'Noun'),\n",
       " ('tags', 'Verb'),\n",
       " ('also', 'Noun'),\n",
       " ('known', 'Verb'),\n",
       " ('word', 'Noun'),\n",
       " ('classes', 'Verb'),\n",
       " ('morphological', 'Noun'),\n",
       " ('classes', 'Verb'),\n",
       " ('lexical', 'Noun'),\n",
       " ('tags', 'Verb'),\n",
       " ('back', 'Noun'),\n",
       " ('days', 'Verb'),\n",
       " ('pos', 'Noun'),\n",
       " ('annotation', 'Verb'),\n",
       " ('manually', 'Noun'),\n",
       " ('done', 'Verb'),\n",
       " ('human', 'Noun'),\n",
       " ('annotators', 'Verb'),\n",
       " ('laborious', 'Noun'),\n",
       " ('task', 'Verb'),\n",
       " ('today', 'Noun'),\n",
       " ('automatic', 'Verb'),\n",
       " ('tools', 'Noun'),\n",
       " ('capable', 'Verb'),\n",
       " ('tagging', 'Noun'),\n",
       " ('word', 'Verb'),\n",
       " ('appropriate', 'Noun'),\n",
       " ('pos', 'Verb'),\n",
       " ('tag', 'Noun'),\n",
       " ('within', 'Verb'),\n",
       " ('context', 'Noun')]"
      ]
     },
     "execution_count": 48,
     "metadata": {},
     "output_type": "execute_result"
    }
   ],
   "source": [
    "# Trying Hidden Markov Model with defined probabilities\n",
    "states = [\"Noun\", \"Verb\", \"Adjective\", \"Adverb\"]\n",
    "initial_probabilities = {\"Noun\": 0.4, \"Verb\": 0.3, \"Adjective\": 0.2, \"Adverb\": 0.1}\n",
    "transition_probabilities = {\n",
    "    \"Noun\": {\"Noun\": 0.2, \"Verb\": 0.4, \"Adjective\": 0.1, \"Adverb\": 0.3},\n",
    "    \"Verb\": {\"Noun\": 0.4, \"Verb\": 0.2, \"Adjective\": 0.2, \"Adverb\": 0.3},\n",
    "    \"Adjective\": {\"Noun\": 0.4, \"Verb\": 0.1, \"Adjective\": 0.3, \"Adverb\": 0.2},\n",
    "    \"Adverb\": {\"Noun\": 0.4, \"Verb\": 0.3, \"Adjective\": 0.2, \"Adverb\": 0.1},\n",
    "}\n",
    "emission_probabilities = {state: 0.25 for state in states}\n",
    "\n",
    "def hmm_pos_tagging(words):\n",
    "    prev_state = None\n",
    "    tags = []\n",
    "    \n",
    "    for word in words:\n",
    "        current_state = None\n",
    "        max_probability = 0.0\n",
    "        \n",
    "        for state in states:\n",
    "            if prev_state is None:\n",
    "                probability = initial_probabilities[state] * emission_probabilities[state]\n",
    "            else:\n",
    "                probability = transition_probabilities[prev_state][state] * emission_probabilities[state]\n",
    "            \n",
    "            if probability > max_probability:\n",
    "                max_probability = probability\n",
    "                current_state = state\n",
    "        \n",
    "        prev_state = current_state\n",
    "        tags.append((word, current_state))\n",
    "    return tags\n",
    "\n",
    "hmm_pos_tagging(cleaned)"
   ]
  }
 ],
 "metadata": {
  "kernelspec": {
   "display_name": "venv",
   "language": "python",
   "name": "python3"
  },
  "language_info": {
   "codemirror_mode": {
    "name": "ipython",
    "version": 3
   },
   "file_extension": ".py",
   "mimetype": "text/x-python",
   "name": "python",
   "nbconvert_exporter": "python",
   "pygments_lexer": "ipython3",
   "version": "3.9.6"
  },
  "orig_nbformat": 4
 },
 "nbformat": 4,
 "nbformat_minor": 2
}
